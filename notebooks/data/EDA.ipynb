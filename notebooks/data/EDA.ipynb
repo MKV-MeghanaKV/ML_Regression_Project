{
 "cells": [
  {
   "cell_type": "markdown",
   "metadata": {},
   "source": [
    "# Diamond Price Prediction"
   ]
  },
  {
   "cell_type": "markdown",
   "metadata": {},
   "source": [
    "### Introduction About the Data:"
   ]
  },
  {
   "cell_type": "markdown",
   "metadata": {},
   "source": [
    "The goal is to predict price of given diamond (Regression Analysis).\n",
    "\n",
    "There are 10 independent variables (including id):\n",
    "\n",
    "* id: unique identifier of each diamond\n",
    "*carat: Carat refers to the unique unit of weight measurement used extensively to weigh gems and diamonds\n",
    "*cut: Cut refers to the quality of cut, which can be one of three  categories -  Good, Very Good, Ideal & Premium.\n",
    "*color: Color of diamond\n",
    "*clarity: Clarity or quality of a gemstone, which can be defined as the degree of how clear it is.\n",
    "*depth: The depth of diamond is its height (in millimeters) measured from buttom tip to top flat surface.\n",
    "*table: Table measures width in mm of the widest part of the diamond.\n",
    "*x: Diamond x dimension.\n",
    "*y: Diamond y dimension.\n",
    "*z: Diamond z dimension.\n",
    "\n",
    "Target variable:\n",
    "\n",
    "*price: Price of the diamond.\n",
    " "
   ]
  },
  {
   "cell_type": "code",
   "execution_count": 8,
   "metadata": {},
   "outputs": [
    {
     "ename": "ModuleNotFoundError",
     "evalue": "No module named 'pandas'",
     "output_type": "error",
     "traceback": [
      "\u001b[1;31m---------------------------------------------------------------------------\u001b[0m",
      "\u001b[1;31mModuleNotFoundError\u001b[0m                       Traceback (most recent call last)",
      "Cell \u001b[1;32mIn[8], line 1\u001b[0m\n\u001b[1;32m----> 1\u001b[0m \u001b[39mimport\u001b[39;00m \u001b[39mpandas\u001b[39;00m \u001b[39mas\u001b[39;00m \u001b[39mpd\u001b[39;00m\n",
      "\u001b[1;31mModuleNotFoundError\u001b[0m: No module named 'pandas'"
     ]
    }
   ],
   "source": [
    "import pandas as pd"
   ]
  },
  {
   "cell_type": "code",
   "execution_count": null,
   "metadata": {},
   "outputs": [],
   "source": []
  }
 ],
 "metadata": {
  "kernelspec": {
   "display_name": "Python 3",
   "language": "python",
   "name": "python3"
  },
  "language_info": {
   "codemirror_mode": {
    "name": "ipython",
    "version": 3
   },
   "file_extension": ".py",
   "mimetype": "text/x-python",
   "name": "python",
   "nbconvert_exporter": "python",
   "pygments_lexer": "ipython3",
   "version": "3.8.0"
  },
  "orig_nbformat": 4
 },
 "nbformat": 4,
 "nbformat_minor": 2
}
